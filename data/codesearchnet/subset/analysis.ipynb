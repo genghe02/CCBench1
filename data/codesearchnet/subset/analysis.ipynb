{
 "cells": [
  {
   "cell_type": "code",
   "id": "initial_id",
   "metadata": {
    "collapsed": true,
    "ExecuteTime": {
     "end_time": "2025-01-03T12:49:30.980617Z",
     "start_time": "2025-01-03T12:49:30.966118Z"
    }
   },
   "source": [
    "import pandas as pd\n",
    "import json\n",
    "\n",
    "from tqdm import tqdm\n",
    "\n",
    "\n",
    "# 打开json格式文件\n",
    "def open_json(filename):\n",
    "    \"\"\"\n",
    "        :param filename: 你要打开的json文件名\n",
    "        :return: None\n",
    "    \"\"\"\n",
    "    f = open(filename, encoding='utf-8')\n",
    "    objects = json.load(f)\n",
    "    f.close()\n",
    "    return objects\n",
    "\n",
    "\n",
    "# 保存json格式文件\n",
    "def save_json(filename, objects):\n",
    "    \"\"\"\n",
    "        :param filename: 你要保存的文件名\n",
    "        :param objects: 你要保存的内容\n",
    "        :return: None\n",
    "\n",
    "        Warning：会覆盖原有内容，谨慎！\n",
    "    \"\"\"\n",
    "    f = open(filename, 'w')\n",
    "    json.dump(objects, f)\n",
    "    f.close()"
   ],
   "outputs": [],
   "execution_count": 35
  },
  {
   "metadata": {
    "ExecuteTime": {
     "end_time": "2025-01-03T12:36:16.135365Z",
     "start_time": "2025-01-03T12:36:16.112037Z"
    }
   },
   "cell_type": "code",
   "source": "df = pd.read_csv('annotationStore.csv', encoding='utf-8', header=[0])",
   "id": "c6c0f74513296f8a",
   "outputs": [],
   "execution_count": 10
  },
  {
   "metadata": {
    "ExecuteTime": {
     "end_time": "2025-01-03T12:36:35.019754Z",
     "start_time": "2025-01-03T12:36:34.998068Z"
    }
   },
   "cell_type": "code",
   "source": "df.head()",
   "id": "ac5326c5800a870a",
   "outputs": [
    {
     "data": {
      "text/plain": [
       "  Language                        Query  \\\n",
       "0       Go              unique elements   \n",
       "1       Go         read properties file   \n",
       "2       Go  heatmap from 3d coordinates   \n",
       "3       Go                create cookie   \n",
       "4       Go               readonly array   \n",
       "\n",
       "                                           GitHubUrl  Relevance Notes  \n",
       "0  https://github.com/tylertreat/BoomFilters/blob...          0   NaN  \n",
       "1  https://github.com/gobs/httpclient/blob/a93d46...          0   NaN  \n",
       "2  https://github.com/twpayne/go-geom/blob/e21b3a...          1   NaN  \n",
       "3  https://github.com/volatiletech/abcweb/blob/9e...          2   NaN  \n",
       "4  https://github.com/ericchiang/k8s/blob/68fb216...          0   NaN  "
      ],
      "text/html": [
       "<div>\n",
       "<style scoped>\n",
       "    .dataframe tbody tr th:only-of-type {\n",
       "        vertical-align: middle;\n",
       "    }\n",
       "\n",
       "    .dataframe tbody tr th {\n",
       "        vertical-align: top;\n",
       "    }\n",
       "\n",
       "    .dataframe thead th {\n",
       "        text-align: right;\n",
       "    }\n",
       "</style>\n",
       "<table border=\"1\" class=\"dataframe\">\n",
       "  <thead>\n",
       "    <tr style=\"text-align: right;\">\n",
       "      <th></th>\n",
       "      <th>Language</th>\n",
       "      <th>Query</th>\n",
       "      <th>GitHubUrl</th>\n",
       "      <th>Relevance</th>\n",
       "      <th>Notes</th>\n",
       "    </tr>\n",
       "  </thead>\n",
       "  <tbody>\n",
       "    <tr>\n",
       "      <th>0</th>\n",
       "      <td>Go</td>\n",
       "      <td>unique elements</td>\n",
       "      <td>https://github.com/tylertreat/BoomFilters/blob...</td>\n",
       "      <td>0</td>\n",
       "      <td>NaN</td>\n",
       "    </tr>\n",
       "    <tr>\n",
       "      <th>1</th>\n",
       "      <td>Go</td>\n",
       "      <td>read properties file</td>\n",
       "      <td>https://github.com/gobs/httpclient/blob/a93d46...</td>\n",
       "      <td>0</td>\n",
       "      <td>NaN</td>\n",
       "    </tr>\n",
       "    <tr>\n",
       "      <th>2</th>\n",
       "      <td>Go</td>\n",
       "      <td>heatmap from 3d coordinates</td>\n",
       "      <td>https://github.com/twpayne/go-geom/blob/e21b3a...</td>\n",
       "      <td>1</td>\n",
       "      <td>NaN</td>\n",
       "    </tr>\n",
       "    <tr>\n",
       "      <th>3</th>\n",
       "      <td>Go</td>\n",
       "      <td>create cookie</td>\n",
       "      <td>https://github.com/volatiletech/abcweb/blob/9e...</td>\n",
       "      <td>2</td>\n",
       "      <td>NaN</td>\n",
       "    </tr>\n",
       "    <tr>\n",
       "      <th>4</th>\n",
       "      <td>Go</td>\n",
       "      <td>readonly array</td>\n",
       "      <td>https://github.com/ericchiang/k8s/blob/68fb216...</td>\n",
       "      <td>0</td>\n",
       "      <td>NaN</td>\n",
       "    </tr>\n",
       "  </tbody>\n",
       "</table>\n",
       "</div>"
      ]
     },
     "execution_count": 13,
     "metadata": {},
     "output_type": "execute_result"
    }
   ],
   "execution_count": 13
  },
  {
   "metadata": {
    "ExecuteTime": {
     "end_time": "2025-01-03T12:36:42.801892Z",
     "start_time": "2025-01-03T12:36:42.785438Z"
    }
   },
   "cell_type": "code",
   "source": "df.shape",
   "id": "5a008e41a188e5e5",
   "outputs": [
    {
     "data": {
      "text/plain": [
       "(4006, 5)"
      ]
     },
     "execution_count": 14,
     "metadata": {},
     "output_type": "execute_result"
    }
   ],
   "execution_count": 14
  },
  {
   "metadata": {
    "ExecuteTime": {
     "end_time": "2025-01-03T12:42:08.889415Z",
     "start_time": "2025-01-03T12:42:08.623777Z"
    }
   },
   "cell_type": "code",
   "source": [
    "python_data_list = []\n",
    "python_data_list_3 = []\n",
    "for i in range(df.shape[0]):\n",
    "    # print(df.iloc[i][0])\n",
    "    if df.iloc[i][0] == 'Python':\n",
    "        python_data_list.append(df.iloc[i][2])\n",
    "        if df.iloc[i][3] == 3:\n",
    "            python_data_list_3.append(df.iloc[i][2])"
   ],
   "id": "3fb566df1f445845",
   "outputs": [
    {
     "name": "stderr",
     "output_type": "stream",
     "text": [
      "C:\\Users\\Windows11\\AppData\\Local\\Temp\\ipykernel_12616\\1960483250.py:5: FutureWarning: Series.__getitem__ treating keys as positions is deprecated. In a future version, integer keys will always be treated as labels (consistent with DataFrame behavior). To access a value by position, use `ser.iloc[pos]`\n",
      "  if df.iloc[i][0] == 'Python':\n",
      "C:\\Users\\Windows11\\AppData\\Local\\Temp\\ipykernel_12616\\1960483250.py:6: FutureWarning: Series.__getitem__ treating keys as positions is deprecated. In a future version, integer keys will always be treated as labels (consistent with DataFrame behavior). To access a value by position, use `ser.iloc[pos]`\n",
      "  python_data_list.append(df.iloc[i][2])\n",
      "C:\\Users\\Windows11\\AppData\\Local\\Temp\\ipykernel_12616\\1960483250.py:7: FutureWarning: Series.__getitem__ treating keys as positions is deprecated. In a future version, integer keys will always be treated as labels (consistent with DataFrame behavior). To access a value by position, use `ser.iloc[pos]`\n",
      "  if df.iloc[i][3] == 3:\n",
      "C:\\Users\\Windows11\\AppData\\Local\\Temp\\ipykernel_12616\\1960483250.py:8: FutureWarning: Series.__getitem__ treating keys as positions is deprecated. In a future version, integer keys will always be treated as labels (consistent with DataFrame behavior). To access a value by position, use `ser.iloc[pos]`\n",
      "  python_data_list_3.append(df.iloc[i][2])\n"
     ]
    }
   ],
   "execution_count": 29
  },
  {
   "metadata": {
    "ExecuteTime": {
     "end_time": "2025-01-03T12:42:09.653150Z",
     "start_time": "2025-01-03T12:42:09.649765Z"
    }
   },
   "cell_type": "code",
   "source": "python_data_list.__len__(), python_data_list_3.__len__()",
   "id": "16808eabe39608f8",
   "outputs": [
    {
     "data": {
      "text/plain": [
       "(2079, 541)"
      ]
     },
     "execution_count": 30,
     "metadata": {},
     "output_type": "execute_result"
    }
   ],
   "execution_count": 30
  },
  {
   "metadata": {
    "ExecuteTime": {
     "end_time": "2025-01-03T12:48:36.287490Z",
     "start_time": "2025-01-03T12:48:32.676277Z"
    }
   },
   "cell_type": "code",
   "source": [
    "with open('python_test_0.jsonl', 'r', encoding='utf-8') as f:\n",
    "    lines = f.readlines()\n",
    "test_urls = []\n",
    "for item in lines:\n",
    "    test_urls.append(eval(item)['url'])\n",
    "    # print(eval(item)['url'])"
   ],
   "id": "2dba842a5b4454db",
   "outputs": [],
   "execution_count": 33
  },
  {
   "metadata": {
    "ExecuteTime": {
     "end_time": "2025-01-03T12:54:11.824441Z",
     "start_time": "2025-01-03T12:54:11.718766Z"
    }
   },
   "cell_type": "code",
   "source": [
    "in_num = 0\n",
    "not_in_num = 0\n",
    "for i, item in enumerate(tqdm(test_urls)):\n",
    "    if item not in python_data_list_3:\n",
    "        not_in_num += 1\n",
    "    else:\n",
    "        js1 = eval(lines[i])\n",
    "        nl = ' '.join(js1['docstring_tokens']).replace('\\n', '')\n",
    "        nl = ' '.join(nl.strip().split())\n",
    "        print(nl)\n",
    "        print('=' * 20)\n",
    "        in_num += 1"
   ],
   "id": "43249e47d8c2d530",
   "outputs": [
    {
     "name": "stderr",
     "output_type": "stream",
     "text": [
      "100%|██████████| 22176/22176 [00:00<00:00, 242490.07it/s]"
     ]
    },
    {
     "name": "stdout",
     "output_type": "stream",
     "text": [
      "Gets the epoch in the users timezone : return :\n",
      "====================\n",
      "Get a metastore table object\n",
      "====================\n",
      "Print a detailed summary of the explored models .\n",
      "====================\n",
      "Return the HTTP code status .\n",
      "====================\n",
      "Execute the logic behind the URL handling .\n",
      "====================\n",
      "Identify clusters using K - Means algorithm .\n",
      "====================\n",
      "Identify a filter by fuzzy string matching .\n",
      "====================\n",
      "Extract contents of zip file into subfolder in parent directory . Parameters ---------- zip_file : str Path to zip file Returns ------- str : folder where the zip was extracted\n",
      "====================\n",
      "HTML - escape the text in t .\n",
      "====================\n",
      "uniq_stable ( elems ) - > list\n",
      "====================\n"
     ]
    },
    {
     "name": "stderr",
     "output_type": "stream",
     "text": [
      "\n"
     ]
    }
   ],
   "execution_count": 43
  },
  {
   "metadata": {
    "ExecuteTime": {
     "end_time": "2025-01-03T12:54:46.846314Z",
     "start_time": "2025-01-03T12:54:46.834030Z"
    }
   },
   "cell_type": "code",
   "source": "not_in_num, in_num",
   "id": "2673075a15f89196",
   "outputs": [
    {
     "data": {
      "text/plain": [
       "(22166, 10)"
      ]
     },
     "execution_count": 44,
     "metadata": {},
     "output_type": "execute_result"
    }
   ],
   "execution_count": 44
  },
  {
   "metadata": {
    "ExecuteTime": {
     "end_time": "2025-01-03T12:56:31.941406Z",
     "start_time": "2025-01-03T12:56:31.843621Z"
    }
   },
   "cell_type": "code",
   "source": [
    "in_num = 0\n",
    "not_in_num = 0\n",
    "in_urls = []\n",
    "for i, item in enumerate(tqdm(python_data_list_3)):\n",
    "    if item not in test_urls:\n",
    "        not_in_num += 1\n",
    "    else:\n",
    "        in_num += 1\n",
    "        in_urls.append(item)"
   ],
   "id": "fb17aaf337d136be",
   "outputs": [
    {
     "name": "stderr",
     "output_type": "stream",
     "text": [
      "100%|██████████| 541/541 [00:00<00:00, 6092.77it/s]\n"
     ]
    }
   ],
   "execution_count": 50
  },
  {
   "metadata": {
    "ExecuteTime": {
     "end_time": "2025-01-03T12:56:32.748720Z",
     "start_time": "2025-01-03T12:56:32.741823Z"
    }
   },
   "cell_type": "code",
   "source": "in_num, not_in_num",
   "id": "2147e45a12eb6c84",
   "outputs": [
    {
     "data": {
      "text/plain": [
       "(12, 529)"
      ]
     },
     "execution_count": 51,
     "metadata": {},
     "output_type": "execute_result"
    }
   ],
   "execution_count": 51
  },
  {
   "metadata": {
    "ExecuteTime": {
     "end_time": "2025-01-03T13:04:09.735861Z",
     "start_time": "2025-01-03T13:04:06.282396Z"
    }
   },
   "cell_type": "code",
   "source": [
    "comments = []\n",
    "for i, item in enumerate(tqdm(lines)):\n",
    "    url = eval(item)['url']\n",
    "    if url in in_urls:\n",
    "        # nl = ' '.join(eval(item)['docstring_tokens']).replace('\\n', '')\n",
    "        # nl = ' '.join(nl.strip().split())\n",
    "        nl = eval(item)['docstring']\n",
    "        comments.append(nl)"
   ],
   "id": "6f3595e9a508f47f",
   "outputs": [
    {
     "name": "stderr",
     "output_type": "stream",
     "text": [
      "100%|██████████| 22176/22176 [00:03<00:00, 6454.39it/s]\n"
     ]
    }
   ],
   "execution_count": 59
  },
  {
   "metadata": {
    "ExecuteTime": {
     "end_time": "2025-01-03T13:04:10.293556Z",
     "start_time": "2025-01-03T13:04:10.288811Z"
    }
   },
   "cell_type": "code",
   "source": "comments",
   "id": "b867ce8625636ef",
   "outputs": [
    {
     "data": {
      "text/plain": [
       "['Gets the epoch in the users timezone\\n    :return:',\n",
       " \"Get a metastore table object\\n\\n        >>> hh = HiveMetastoreHook()\\n        >>> t = hh.get_table(db='airflow', table_name='static_babynames')\\n        >>> t.tableName\\n        'static_babynames'\\n        >>> [col.name for col in t.sd.cols]\\n        ['state', 'year', 'name', 'gender', 'num']\",\n",
       " 'Print a detailed summary of the explored models.',\n",
       " 'Return the HTTP code status.\\n\\n        :return: The matched and formatted status code.\\n        :rtype: str|int|None',\n",
       " 'Execute the logic behind the URL handling.\\n\\n        :return: The status of the URL.\\n        :rtype: str',\n",
       " 'Identify clusters using K - Means algorithm.\\n\\n    Parameters\\n    ----------\\n    data : array_like\\n        array of size [n_samples, n_features].\\n    n_clusters : int\\n        The number of clusters expected in the data.\\n\\n    Returns\\n    -------\\n    dict\\n        boolean array for each identified cluster.',\n",
       " \"Identify a filter by fuzzy string matching.\\n\\n        Partial ('fuzzy') matching performed by `fuzzywuzzy.fuzzy.ratio`\\n\\n        Parameters\\n        ----------\\n        fuzzkey : str\\n            A string that partially matches one filter name more than the others.\\n\\n        Returns\\n        -------\\n        The name of the most closely matched filter. : str\",\n",
       " 'Extract contents of zip file into subfolder in parent directory.\\n    \\n    Parameters\\n    ----------\\n    zip_file : str\\n        Path to zip file\\n    \\n    Returns\\n    -------\\n        str : folder where the zip was extracted',\n",
       " 'HTML-escape the text in `t`.',\n",
       " 'uniq_stable(elems) -> list\\n\\n    Return from an iterable, a list of all the unique elements in the input,\\n    but maintaining the order in which they first appear.\\n\\n    A naive solution to this problem which just makes a dictionary with the\\n    elements as keys fails to respect the stability condition, since\\n    dictionaries are unsorted by nature.\\n\\n    Note: All elements in the input must be valid dictionary keys for this\\n    routine to work, as it internally uses a dictionary for efficiency\\n    reasons.']"
      ]
     },
     "execution_count": 60,
     "metadata": {},
     "output_type": "execute_result"
    }
   ],
   "execution_count": 60
  },
  {
   "metadata": {
    "ExecuteTime": {
     "end_time": "2025-01-03T12:57:53.118790Z",
     "start_time": "2025-01-03T12:57:53.108145Z"
    }
   },
   "cell_type": "code",
   "source": "len(comments)",
   "id": "c1139ddd536b6617",
   "outputs": [
    {
     "data": {
      "text/plain": [
       "10"
      ]
     },
     "execution_count": 56,
     "metadata": {},
     "output_type": "execute_result"
    }
   ],
   "execution_count": 56
  },
  {
   "metadata": {
    "ExecuteTime": {
     "end_time": "2025-01-03T13:04:30.964420Z",
     "start_time": "2025-01-03T13:04:30.954458Z"
    }
   },
   "cell_type": "code",
   "source": "in_urls",
   "id": "7419c1cb81b4e843",
   "outputs": [
    {
     "data": {
      "text/plain": [
       "['https://github.com/oscarbranson/latools/blob/cd25a650cfee318152f234d992708511f7047fbe/latools/filtering/clustering.py#L35-L56',\n",
       " 'https://github.com/oscarbranson/latools/blob/cd25a650cfee318152f234d992708511f7047fbe/latools/filtering/filt_obj.py#L319-L344',\n",
       " 'https://github.com/oscarbranson/latools/blob/cd25a650cfee318152f234d992708511f7047fbe/latools/helpers/utils.py#L43-L65',\n",
       " 'https://github.com/apache/airflow/blob/b69c686ad8a0c89b9136bb4b31767257eb7b2597/airflow/utils/timezone.py#L67-L79',\n",
       " 'https://github.com/oscarbranson/latools/blob/cd25a650cfee318152f234d992708511f7047fbe/latools/helpers/utils.py#L43-L65',\n",
       " 'https://github.com/tnkteja/myhelp/blob/fb3a4809d448ad14d5b2e6ddf2e7e89ad52b71cb/virtualEnvironment/lib/python2.7/site-packages/coverage/html.py#L375-L386',\n",
       " 'https://github.com/h2oai/h2o-3/blob/dd62aaa1e7f680a8b16ee14bc66b0fb5195c2ad8/h2o-py/h2o/grid/grid_search.py#L439-L457',\n",
       " 'https://github.com/h2oai/h2o-3/blob/dd62aaa1e7f680a8b16ee14bc66b0fb5195c2ad8/h2o-py/h2o/grid/grid_search.py#L439-L457',\n",
       " 'https://github.com/funilrys/PyFunceble/blob/cdf69cbde120199171f7158e1c33635753e6e2f5/PyFunceble/http_code.py#L157-L204',\n",
       " 'https://github.com/cloud9ers/gurumate/blob/075dc74d1ee62a8c6b7a8bf2b271364f01629d1e/environment/lib/python2.7/site-packages/IPython/utils/data.py#L22-L42',\n",
       " 'https://github.com/apache/airflow/blob/b69c686ad8a0c89b9136bb4b31767257eb7b2597/airflow/hooks/hive_hooks.py#L578-L591',\n",
       " 'https://github.com/funilrys/PyFunceble/blob/cdf69cbde120199171f7158e1c33635753e6e2f5/PyFunceble/url.py#L75-L125']"
      ]
     },
     "execution_count": 61,
     "metadata": {},
     "output_type": "execute_result"
    }
   ],
   "execution_count": 61
  },
  {
   "metadata": {
    "ExecuteTime": {
     "end_time": "2025-01-03T13:04:35.521139Z",
     "start_time": "2025-01-03T13:04:32.082222Z"
    }
   },
   "cell_type": "code",
   "source": "",
   "id": "6bf474aaa91e410f",
   "outputs": [
    {
     "name": "stderr",
     "output_type": "stream",
     "text": [
      "100%|██████████| 22176/22176 [00:03<00:00, 6461.43it/s]"
     ]
    },
    {
     "name": "stdout",
     "output_type": "stream",
     "text": [
      "{\"repo\": \"cloud9ers/gurumate\", \"path\": \"environment/lib/python2.7/site-packages/IPython/utils/data.py\", \"func_name\": \"uniq_stable\", \"original_string\": \"def uniq_stable(elems):\\n    \\\"\\\"\\\"uniq_stable(elems) -> list\\n\\n    Return from an iterable, a list of all the unique elements in the input,\\n    but maintaining the order in which they first appear.\\n\\n    A naive solution to this problem which just makes a dictionary with the\\n    elements as keys fails to respect the stability condition, since\\n    dictionaries are unsorted by nature.\\n\\n    Note: All elements in the input must be valid dictionary keys for this\\n    routine to work, as it internally uses a dictionary for efficiency\\n    reasons.\\\"\\\"\\\"\\n\\n    unique = []\\n    unique_dict = {}\\n    for nn in elems:\\n        if nn not in unique_dict:\\n            unique.append(nn)\\n            unique_dict[nn] = None\\n    return unique\", \"language\": \"python\", \"code\": \"def uniq_stable(elems):\\n    \\\"\\\"\\\"uniq_stable(elems) -> list\\n\\n    Return from an iterable, a list of all the unique elements in the input,\\n    but maintaining the order in which they first appear.\\n\\n    A naive solution to this problem which just makes a dictionary with the\\n    elements as keys fails to respect the stability condition, since\\n    dictionaries are unsorted by nature.\\n\\n    Note: All elements in the input must be valid dictionary keys for this\\n    routine to work, as it internally uses a dictionary for efficiency\\n    reasons.\\\"\\\"\\\"\\n\\n    unique = []\\n    unique_dict = {}\\n    for nn in elems:\\n        if nn not in unique_dict:\\n            unique.append(nn)\\n            unique_dict[nn] = None\\n    return unique\", \"code_tokens\": [\"def\", \"uniq_stable\", \"(\", \"elems\", \")\", \":\", \"unique\", \"=\", \"[\", \"]\", \"unique_dict\", \"=\", \"{\", \"}\", \"for\", \"nn\", \"in\", \"elems\", \":\", \"if\", \"nn\", \"not\", \"in\", \"unique_dict\", \":\", \"unique\", \".\", \"append\", \"(\", \"nn\", \")\", \"unique_dict\", \"[\", \"nn\", \"]\", \"=\", \"None\", \"return\", \"unique\"], \"docstring\": \"uniq_stable(elems) -> list\\n\\n    Return from an iterable, a list of all the unique elements in the input,\\n    but maintaining the order in which they first appear.\\n\\n    A naive solution to this problem which just makes a dictionary with the\\n    elements as keys fails to respect the stability condition, since\\n    dictionaries are unsorted by nature.\\n\\n    Note: All elements in the input must be valid dictionary keys for this\\n    routine to work, as it internally uses a dictionary for efficiency\\n    reasons.\", \"docstring_tokens\": [\"uniq_stable\", \"(\", \"elems\", \")\", \"-\", \">\", \"list\"], \"sha\": \"075dc74d1ee62a8c6b7a8bf2b271364f01629d1e\", \"url\": \"https://github.com/cloud9ers/gurumate/blob/075dc74d1ee62a8c6b7a8bf2b271364f01629d1e/environment/lib/python2.7/site-packages/IPython/utils/data.py#L22-L42\", \"partition\": \"test\"}\n",
      "\n"
     ]
    },
    {
     "name": "stderr",
     "output_type": "stream",
     "text": [
      "\n"
     ]
    }
   ],
   "execution_count": 62
  },
  {
   "metadata": {},
   "cell_type": "code",
   "outputs": [],
   "execution_count": null,
   "source": "",
   "id": "d7ff04460d06e95"
  }
 ],
 "metadata": {
  "kernelspec": {
   "display_name": "Python 3",
   "language": "python",
   "name": "python3"
  },
  "language_info": {
   "codemirror_mode": {
    "name": "ipython",
    "version": 2
   },
   "file_extension": ".py",
   "mimetype": "text/x-python",
   "name": "python",
   "nbconvert_exporter": "python",
   "pygments_lexer": "ipython2",
   "version": "2.7.6"
  }
 },
 "nbformat": 4,
 "nbformat_minor": 5
}
